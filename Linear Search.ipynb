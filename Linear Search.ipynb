{
 "cells": [
  {
   "cell_type": "code",
   "execution_count": 3,
   "metadata": {},
   "outputs": [
    {
     "name": "stdout",
     "output_type": "stream",
     "text": [
      "enter the list size3\n",
      "12\n",
      "32\n",
      "23\n",
      "[12, 32, 23]\n",
      "Enter the key element:12\n",
      "key is found at index number: 0\n"
     ]
    }
   ],
   "source": [
    "def linearsearch(list,key):\n",
    "    for i in range(len(list)):\n",
    "        if key==list[i]:\n",
    "            print(\"key is found at index number:\",i)\n",
    "            break\n",
    "        else:\n",
    "            print(\"key is not found\")\n",
    "size=int(input(\"enter the list size\"))\n",
    "list=[int(input()) for i in range(size)]\n",
    "print(list)\n",
    "key=int(input(\"Enter the key element:\"))\n",
    "linearsearch(list,key)"
   ]
  },
  {
   "cell_type": "code",
   "execution_count": null,
   "metadata": {},
   "outputs": [],
   "source": []
  }
 ],
 "metadata": {
  "kernelspec": {
   "display_name": "Python 3",
   "language": "python",
   "name": "python3"
  },
  "language_info": {
   "codemirror_mode": {
    "name": "ipython",
    "version": 3
   },
   "file_extension": ".py",
   "mimetype": "text/x-python",
   "name": "python",
   "nbconvert_exporter": "python",
   "pygments_lexer": "ipython3",
   "version": "3.7.4"
  }
 },
 "nbformat": 4,
 "nbformat_minor": 2
}
